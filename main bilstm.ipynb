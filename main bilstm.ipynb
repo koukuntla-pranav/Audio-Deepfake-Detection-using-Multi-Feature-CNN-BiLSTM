{
 "cells": [
  {
   "cell_type": "code",
   "execution_count": 1,
   "metadata": {},
   "outputs": [],
   "source": [
    "import os\n",
    "os.environ[\"KMP_DUPLICATE_LIB_OK\"] = \"TRUE\"\n",
    "import torch\n",
    "import librosa\n",
    "import numpy as np\n",
    "import torchaudio.transforms as transforms\n",
    "import torch.nn as nn\n",
    "import torch.nn.functional as F\n",
    "import torch.optim as optim\n",
    "from torch.utils.data import Dataset, DataLoader\n",
    "import matplotlib.pyplot as plt\n",
    "import librosa.display\n",
    "from torch.nn.utils.rnn import pad_sequence\n",
    "from tqdm.notebook import tqdm\n",
    "\n",
    "\n",
    "import warnings\n",
    "warnings.filterwarnings('ignore')\n",
    "\n"
   ]
  },
  {
   "cell_type": "code",
   "execution_count": 2,
   "metadata": {},
   "outputs": [],
   "source": [
    "def load_protocol(protocol_path):\n",
    "    data = []\n",
    "    with open(protocol_path, 'r') as file:\n",
    "        lines = file.readlines()\n",
    "        for line in lines:\n",
    "            parts = line.strip().split()\n",
    "            filename = parts[1]  # Audio filename\n",
    "            label = 1 if parts[-1] == \"bonafide\" else 0  # Convert to binary label (1=real, 0=fake)\n",
    "            data.append((filename, label))\n",
    "    return data"
   ]
  },
  {
   "cell_type": "code",
   "execution_count": 3,
   "metadata": {},
   "outputs": [],
   "source": [
    "class SpoofDataset(Dataset):\n",
    "    def __init__(self, dataset_path, protocol_path, max_len=100):\n",
    "        self.dataset_path = dataset_path\n",
    "        self.data = load_protocol(protocol_path)\n",
    "        self.max_len = max_len\n",
    "\n",
    "    def __len__(self):\n",
    "        return len(self.data)\n",
    "\n",
    "    def __getitem__(self, idx):\n",
    "        filename, label = self.data[idx]\n",
    "        file_path = os.path.join(self.dataset_path, filename + \".flac\")\n",
    "\n",
    "        y, sr = librosa.load(file_path, sr=16000)\n",
    "        y, _ = librosa.effects.trim(y)\n",
    "\n",
    "        def normalize_and_pad(x):\n",
    "            if x.shape[1] < self.max_len:\n",
    "                pad_width = self.max_len - x.shape[1]\n",
    "                x = np.pad(x, ((0, 0), (0, pad_width)), mode='constant')\n",
    "            else:\n",
    "                x = x[:, :self.max_len]\n",
    "            return x\n",
    "\n",
    "        mfcc = normalize_and_pad(librosa.feature.mfcc(y=y, sr=sr, n_mfcc=20))\n",
    "        mel = normalize_and_pad(librosa.power_to_db(librosa.feature.melspectrogram(y=y, sr=sr, n_mels=20), ref=np.max))\n",
    "        cqt = normalize_and_pad(librosa.amplitude_to_db(np.abs(librosa.cqt(y=y, sr=sr, n_bins=20)), ref=np.max))\n",
    "        cqcc = normalize_and_pad(np.zeros_like(mfcc))  # Placeholder\n",
    "\n",
    "        # Add channel dimension: (1, 20, 100)\n",
    "        mfcc = torch.tensor(mfcc, dtype=torch.float32).unsqueeze(0)\n",
    "        mel = torch.tensor(mel, dtype=torch.float32).unsqueeze(0)\n",
    "        cqt = torch.tensor(cqt, dtype=torch.float32).unsqueeze(0)\n",
    "        cqcc = torch.tensor(cqcc, dtype=torch.float32).unsqueeze(0)\n",
    "\n",
    "        return (mfcc, mel, cqt, cqcc), torch.tensor(label, dtype=torch.float32)\n"
   ]
  },
  {
   "cell_type": "code",
   "execution_count": 4,
   "metadata": {},
   "outputs": [],
   "source": [
    "train_dataset = SpoofDataset(\n",
    "    dataset_path=\"../LA/ASVspoof2019_LA_train/flac/\",\n",
    "    protocol_path=\"../LA/ASVspoof2019_LA_cm_protocols/ASVspoof2019.LA.cm.train.trn.txt\",\n",
    "    max_len=100  # Adjust this based on dataset\n",
    ")\n",
    "\n",
    "eval_dataset = SpoofDataset(\n",
    "    dataset_path=\"../LA/ASVspoof2019_LA_eval/flac/\",\n",
    "    protocol_path=\"../LA/ASVspoof2019_LA_cm_protocols/ASVspoof2019.LA.cm.eval.trl.txt\",\n",
    "    max_len=100  # Adjust this based on dataset\n",
    ")\n",
    "dev_dataset = SpoofDataset(\n",
    "    dataset_path=\"../LA/ASVspoof2019_LA_dev/flac/\",\n",
    "    protocol_path=\"../LA/ASVspoof2019_LA_cm_protocols/ASVspoof2019.LA.cm.dev.trl.txt\",\n",
    "    max_len=100  # Adjust this based on dataset\n",
    ")\n",
    "\n",
    "train_loader = DataLoader(train_dataset, batch_size=32, shuffle=True)\n",
    "\n",
    "eval_loader = DataLoader(eval_dataset, batch_size=32, shuffle=False)\n",
    "\n",
    "dev_loader = DataLoader(dev_dataset,batch_size=32,shuffle=False)"
   ]
  },
  {
   "cell_type": "code",
   "execution_count": 5,
   "metadata": {},
   "outputs": [
    {
     "name": "stdout",
     "output_type": "stream",
     "text": [
      "MFCC Shape: torch.Size([1, 20, 100]), Label: 1.0\n"
     ]
    }
   ],
   "source": [
    "sample_mfcc, sample_label = train_dataset[0]\n",
    "features, *_ = sample_mfcc  # unpack only the first element (MFCC features)\n",
    "print(f\"MFCC Shape: {features.shape}, Label: {sample_label}\")\n"
   ]
  },
  {
   "cell_type": "code",
   "execution_count": 6,
   "metadata": {},
   "outputs": [],
   "source": [
    "\n",
    "\n",
    "class FeatureCNN(nn.Module):\n",
    "    def __init__(self, in_channels=1):\n",
    "        super(FeatureCNN, self).__init__()\n",
    "        self.cnn = nn.Sequential(\n",
    "            nn.Conv2d(in_channels, 32, kernel_size=3, padding=1),\n",
    "            nn.ReLU(),\n",
    "            nn.MaxPool2d(2),\n",
    "\n",
    "            nn.Conv2d(32, 64, kernel_size=3, padding=1),\n",
    "            nn.ReLU(),\n",
    "            nn.MaxPool2d(2),\n",
    "\n",
    "            nn.Conv2d(64, 128, kernel_size=3, padding=1),\n",
    "            nn.ReLU(),\n",
    "            nn.MaxPool2d(2)\n",
    "        )\n",
    "\n",
    "    def forward(self, x):\n",
    "        return self.cnn(x)\n",
    "\n",
    "class MultiFeatureCNN_BiLSTM(nn.Module):\n",
    "    def __init__(self):\n",
    "        super(MultiFeatureCNN_BiLSTM, self).__init__()\n",
    "\n",
    "        # 4 parallel CNNs for MFCC, Mel, CQCC, CQT\n",
    "        self.cnn_mfcc = FeatureCNN()\n",
    "        self.cnn_mel = FeatureCNN()\n",
    "        self.cnn_cqcc = FeatureCNN()\n",
    "        self.cnn_cqt = FeatureCNN()\n",
    "\n",
    "        # Assuming input shape: (batch, 1, 20, 100) for each feature\n",
    "        # After 3 layers of MaxPool2d(2), time/freq reduce by 2^3 = 8\n",
    "        # e.g., (20, 100) -> (2, 12), with 128 channels\n",
    "        self.lstm_input_size = 1024  # channels * freq (height)\n",
    "        self.lstm = nn.LSTM(input_size=self.lstm_input_size, hidden_size=64,\n",
    "                            num_layers=2, batch_first=True, bidirectional=True)\n",
    "\n",
    "        self.dropout = nn.Dropout(0.3)\n",
    "        self.fc = nn.Linear(64 * 2, 1)  # BiLSTM output\n",
    "\n",
    "    def forward(self, mfcc, mel, cqcc, cqt):\n",
    "        # Each input: (batch, 1, 20, 100)\n",
    "        mfcc_out = self.cnn_mfcc(mfcc)\n",
    "        mel_out = self.cnn_mel(mel)\n",
    "        cqcc_out = self.cnn_cqcc(cqcc)\n",
    "        cqt_out = self.cnn_cqt(cqt)\n",
    "\n",
    "        # All outputs: (batch, 128, 2, 12) → reshape for LSTM\n",
    "        def reshape_for_lstm(x):\n",
    "            x = x.permute(0, 3, 1, 2)  # (batch, time=12, channels, freq=2)\n",
    "            return x.reshape(x.size(0), x.size(1), -1)  # (batch, time, features)\n",
    "\n",
    "        mfcc_seq = reshape_for_lstm(mfcc_out)\n",
    "        mel_seq = reshape_for_lstm(mel_out)\n",
    "        cqcc_seq = reshape_for_lstm(cqcc_out)\n",
    "        cqt_seq = reshape_for_lstm(cqt_out)\n",
    "\n",
    "        # Concatenate along feature axis\n",
    "        combined_seq = torch.cat([mfcc_seq, mel_seq, cqcc_seq, cqt_seq], dim=2)  # (batch, time, features * 4)\n",
    "\n",
    "        lstm_out, _ = self.lstm(combined_seq)\n",
    "        lstm_out = self.dropout(lstm_out)\n",
    "\n",
    "        out = self.fc(lstm_out[:, -1, :])\n",
    "        return out\n"
   ]
  },
  {
   "cell_type": "code",
   "execution_count": 7,
   "metadata": {},
   "outputs": [],
   "source": [
    "def validate(model, val_loader, criterion, device):\n",
    "    model.eval()\n",
    "    total_loss, correct, total = 0, 0, 0\n",
    "\n",
    "    with torch.no_grad():\n",
    "        for (mfcc, mel, cqt, cqcc), labels in val_loader:\n",
    "            mfcc, mel, cqt, cqcc, labels = mfcc.to(device), mel.to(device), cqt.to(device), cqcc.to(device), labels.to(device)\n",
    "\n",
    "            outputs = model(mfcc, mel, cqt, cqcc).squeeze(1)\n",
    "            loss = criterion(outputs, labels)\n",
    "\n",
    "            total_loss += loss.item()\n",
    "            # Correctly calculate predictions using sigmoid with BCEWithLogitsLoss\n",
    "            predictions = (torch.sigmoid(outputs) >= 0.5).float()\n",
    "            correct += (predictions == labels).sum().item()\n",
    "            total += labels.size(0)\n",
    "\n",
    "    val_acc = correct / total * 100\n",
    "    return total_loss / len(val_loader), val_acc"
   ]
  },
  {
   "cell_type": "code",
   "execution_count": 8,
   "metadata": {},
   "outputs": [],
   "source": [
    "def plot_metrics(train_losses, val_losses, train_accuracies, val_accuracies):\n",
    "    epochs = range(1, len(train_losses) + 1)\n",
    "\n",
    "    plt.figure(figsize=(12, 5))\n",
    "\n",
    "    # Loss Plot\n",
    "    plt.subplot(1, 2, 1)\n",
    "    plt.plot(epochs, train_losses, label='Train Loss')\n",
    "    plt.plot(epochs, val_losses, label='Val Loss')\n",
    "    plt.title(\"Loss Over Epochs\")\n",
    "    plt.xlabel(\"Epoch\")\n",
    "    plt.ylabel(\"Loss\")\n",
    "    plt.legend()\n",
    "\n",
    "    # Accuracy Plot\n",
    "    plt.subplot(1, 2, 2)\n",
    "    plt.plot(epochs, train_accuracies, label='Train Accuracy')\n",
    "    plt.plot(epochs, val_accuracies, label='Val Accuracy')\n",
    "    plt.title(\"Accuracy Over Epochs\")\n",
    "    plt.xlabel(\"Epoch\")\n",
    "    plt.ylabel(\"Accuracy (%)\")\n",
    "    plt.legend()\n",
    "\n",
    "    plt.tight_layout()\n",
    "    plt.show()\n"
   ]
  },
  {
   "cell_type": "code",
   "execution_count": 9,
   "metadata": {},
   "outputs": [],
   "source": [
    "from tqdm import tqdm\n",
    "\n",
    "def train(model, train_loader, dev_loader, optimizer, criterion, device, epochs=10, save_path=\"best_model.pth\"):\n",
    "    best_val_loss = float('inf')\n",
    "\n",
    "    train_losses, val_losses = [], []\n",
    "    train_accuracies, val_accuracies = [], []\n",
    "\n",
    "    for epoch in range(epochs):\n",
    "        model.train()\n",
    "        total_loss, correct, total = 0, 0, 0\n",
    "\n",
    "        # Progress bar\n",
    "        progress_bar = tqdm(train_loader, total=len(train_loader), desc=f\"Epoch {epoch+1}/{epochs}\")\n",
    "\n",
    "        for (mfcc, mel, cqt, cqcc), labels in progress_bar:\n",
    "            mfcc, mel, cqt, cqcc = mfcc.to(device), mel.to(device), cqt.to(device), cqcc.to(device)\n",
    "            labels = labels.to(device).float()\n",
    "\n",
    "            optimizer.zero_grad()\n",
    "            outputs = model(mfcc, mel, cqt, cqcc).squeeze(1)\n",
    "            loss = criterion(outputs, labels)\n",
    "            loss.backward()\n",
    "            optimizer.step()\n",
    "\n",
    "            total_loss += loss.item()\n",
    "            predictions = (outputs >= 0.5).float()\n",
    "            correct += (predictions == labels).sum().item()\n",
    "            total += labels.size(0)\n",
    "\n",
    "        train_loss = total_loss / len(train_loader)\n",
    "        train_acc = correct / total * 100\n",
    "        train_losses.append(train_loss)\n",
    "        train_accuracies.append(train_acc)\n",
    "\n",
    "        # Validation step\n",
    "        val_loss, val_acc = validate(model, dev_loader, criterion, device)\n",
    "        val_losses.append(val_loss)\n",
    "        val_accuracies.append(val_acc)\n",
    "\n",
    "        # Epoch result summary\n",
    "        print(f\"\\nEpoch {epoch+1}/{epochs}\")\n",
    "        print(f\"Train Loss: {train_loss:.4f} | Val Loss: {val_loss:.4f} | Train Acc: {train_acc:.2f}% | Val Acc: {val_acc:.2f}%\")\n",
    "\n",
    "        # Always save best model based on val loss\n",
    "        if val_loss < best_val_loss:\n",
    "            best_val_loss = val_loss\n",
    "            torch.save(model.state_dict(), save_path)\n",
    "            print(\"✅ Saved best model!\\n\")\n",
    "\n",
    "    # Final metric plotting\n",
    "    plot_metrics(train_losses, val_losses, train_accuracies, val_accuracies)\n"
   ]
  },
  {
   "cell_type": "code",
   "execution_count": 10,
   "metadata": {},
   "outputs": [],
   "source": [
    "device = torch.device(\"cuda\" if torch.cuda.is_available() else \"cpu\")\n",
    "\n",
    "model = MultiFeatureCNN_BiLSTM().to(device)\n",
    "\n",
    "criterion = nn.BCEWithLogitsLoss()  # Binary Cross Entropy Loss\n",
    "optimizer = optim.Adam(model.parameters(), lr=0.01)\n",
    "\n"
   ]
  },
  {
   "cell_type": "code",
   "execution_count": 11,
   "metadata": {},
   "outputs": [],
   "source": [
    "def test(model, test_loader, criterion, device, model_path):\n",
    "    \"\"\"\n",
    "    Function to test the model on the dev dataset.\n",
    "    Loads the best saved model weights.\n",
    "    \"\"\"\n",
    "    try:\n",
    "        model.load_state_dict(torch.load(model_path))\n",
    "    except FileNotFoundError:\n",
    "        print(f\"Error: Model file not found at {model_path}. Please ensure the model is trained and saved.\")\n",
    "        return\n",
    "\n",
    "    model.eval()\n",
    "    \n",
    "    total_loss, correct, total = 0, 0, 0\n",
    "    \n",
    "    # Progress bar for testing\n",
    "    progress_bar = tqdm(test_loader, desc=\"Testing\", leave=True)\n",
    "\n",
    "    with torch.no_grad():\n",
    "        for (mfcc, mel, cqt, cqcc), labels in progress_bar:\n",
    "            mfcc, mel, cqt, cqcc, labels = mfcc.to(device), mel.to(device), cqt.to(device), cqcc.to(device), labels.to(device)\n",
    "\n",
    "            outputs = model(mfcc, mel, cqt, cqcc).squeeze(1)\n",
    "            loss = criterion(outputs, labels)\n",
    "\n",
    "            total_loss += loss.item()\n",
    "            predictions = (torch.sigmoid(outputs) >= 0.5).float()\n",
    "            correct += (predictions == labels).sum().item()\n",
    "            total += labels.size(0)\n",
    "            \n",
    "            # Update progress bar with live metrics\n",
    "            current_accuracy = 100. * correct / total\n",
    "            progress_bar.set_postfix(loss=f\"{loss.item():.4f}\", accuracy=f\"{current_accuracy:.2f}%\")\n",
    "\n",
    "    test_acc = correct / total * 100\n",
    "    avg_loss = total_loss / len(test_loader)\n",
    "    \n",
    "    print(\"\\n--- Testing Results on dev_dataset ---\")\n",
    "    print(f\"Test Loss: {avg_loss:.4f}\")\n",
    "    print(f\"Test Accuracy: {test_acc:.2f}%\")\n",
    "\n"
   ]
  },
  {
   "cell_type": "code",
   "execution_count": 12,
   "metadata": {},
   "outputs": [
    {
     "name": "stderr",
     "output_type": "stream",
     "text": [
      "Epoch 1/20: 100%|██████████| 794/794 [10:47<00:00,  1.23it/s]\n"
     ]
    },
    {
     "name": "stdout",
     "output_type": "stream",
     "text": [
      "\n",
      "Epoch 1/20\n",
      "Train Loss: 0.3343 | Val Loss: 0.3298 | Train Acc: 89.83% | Val Acc: 89.74%\n",
      "✅ Saved best model!\n",
      "\n"
     ]
    },
    {
     "name": "stderr",
     "output_type": "stream",
     "text": [
      "Epoch 2/20: 100%|██████████| 794/794 [11:53<00:00,  1.11it/s]\n"
     ]
    },
    {
     "name": "stdout",
     "output_type": "stream",
     "text": [
      "\n",
      "Epoch 2/20\n",
      "Train Loss: 0.3328 | Val Loss: 0.3319 | Train Acc: 89.83% | Val Acc: 89.74%\n"
     ]
    },
    {
     "name": "stderr",
     "output_type": "stream",
     "text": [
      "Epoch 3/20: 100%|██████████| 794/794 [16:15<00:00,  1.23s/it]\n"
     ]
    },
    {
     "name": "stdout",
     "output_type": "stream",
     "text": [
      "\n",
      "Epoch 3/20\n",
      "Train Loss: 0.3328 | Val Loss: 0.3321 | Train Acc: 89.83% | Val Acc: 89.74%\n"
     ]
    },
    {
     "name": "stderr",
     "output_type": "stream",
     "text": [
      "Epoch 4/20: 100%|██████████| 794/794 [16:14<00:00,  1.23s/it]\n"
     ]
    },
    {
     "name": "stdout",
     "output_type": "stream",
     "text": [
      "\n",
      "Epoch 4/20\n",
      "Train Loss: 0.3320 | Val Loss: 0.3376 | Train Acc: 89.83% | Val Acc: 89.74%\n"
     ]
    },
    {
     "name": "stderr",
     "output_type": "stream",
     "text": [
      "Epoch 5/20: 100%|██████████| 794/794 [15:40<00:00,  1.18s/it]\n"
     ]
    },
    {
     "name": "stdout",
     "output_type": "stream",
     "text": [
      "\n",
      "Epoch 5/20\n",
      "Train Loss: 0.3304 | Val Loss: 0.3312 | Train Acc: 89.83% | Val Acc: 89.74%\n"
     ]
    },
    {
     "name": "stderr",
     "output_type": "stream",
     "text": [
      "Epoch 6/20: 100%|██████████| 794/794 [15:35<00:00,  1.18s/it]\n"
     ]
    },
    {
     "name": "stdout",
     "output_type": "stream",
     "text": [
      "\n",
      "Epoch 6/20\n",
      "Train Loss: 0.3302 | Val Loss: 0.3305 | Train Acc: 89.83% | Val Acc: 89.74%\n"
     ]
    },
    {
     "name": "stderr",
     "output_type": "stream",
     "text": [
      "Epoch 7/20: 100%|██████████| 794/794 [15:39<00:00,  1.18s/it]\n"
     ]
    },
    {
     "name": "stdout",
     "output_type": "stream",
     "text": [
      "\n",
      "Epoch 7/20\n",
      "Train Loss: 0.3301 | Val Loss: 0.3317 | Train Acc: 89.83% | Val Acc: 89.74%\n"
     ]
    },
    {
     "name": "stderr",
     "output_type": "stream",
     "text": [
      "Epoch 8/20: 100%|██████████| 794/794 [15:27<00:00,  1.17s/it]\n"
     ]
    },
    {
     "name": "stdout",
     "output_type": "stream",
     "text": [
      "\n",
      "Epoch 8/20\n",
      "Train Loss: 0.3294 | Val Loss: 0.3306 | Train Acc: 89.83% | Val Acc: 89.74%\n"
     ]
    },
    {
     "name": "stderr",
     "output_type": "stream",
     "text": [
      "Epoch 9/20: 100%|██████████| 794/794 [15:44<00:00,  1.19s/it]\n"
     ]
    },
    {
     "name": "stdout",
     "output_type": "stream",
     "text": [
      "\n",
      "Epoch 9/20\n",
      "Train Loss: 0.3291 | Val Loss: 0.3305 | Train Acc: 89.83% | Val Acc: 89.74%\n"
     ]
    },
    {
     "name": "stderr",
     "output_type": "stream",
     "text": [
      "Epoch 10/20: 100%|██████████| 794/794 [15:36<00:00,  1.18s/it]\n"
     ]
    },
    {
     "name": "stdout",
     "output_type": "stream",
     "text": [
      "\n",
      "Epoch 10/20\n",
      "Train Loss: 0.3290 | Val Loss: 0.3310 | Train Acc: 89.83% | Val Acc: 89.74%\n"
     ]
    },
    {
     "name": "stderr",
     "output_type": "stream",
     "text": [
      "Epoch 11/20: 100%|██████████| 794/794 [15:31<00:00,  1.17s/it]\n"
     ]
    },
    {
     "name": "stdout",
     "output_type": "stream",
     "text": [
      "\n",
      "Epoch 11/20\n",
      "Train Loss: 0.3291 | Val Loss: 0.3305 | Train Acc: 89.83% | Val Acc: 89.74%\n"
     ]
    },
    {
     "name": "stderr",
     "output_type": "stream",
     "text": [
      "Epoch 12/20: 100%|██████████| 794/794 [15:38<00:00,  1.18s/it]\n"
     ]
    },
    {
     "name": "stdout",
     "output_type": "stream",
     "text": [
      "\n",
      "Epoch 12/20\n",
      "Train Loss: 0.3295 | Val Loss: 0.3305 | Train Acc: 89.83% | Val Acc: 89.74%\n"
     ]
    },
    {
     "name": "stderr",
     "output_type": "stream",
     "text": [
      "Epoch 13/20: 100%|██████████| 794/794 [15:40<00:00,  1.18s/it]\n"
     ]
    },
    {
     "name": "stdout",
     "output_type": "stream",
     "text": [
      "\n",
      "Epoch 13/20\n",
      "Train Loss: 0.3291 | Val Loss: 0.3309 | Train Acc: 89.83% | Val Acc: 89.74%\n"
     ]
    },
    {
     "name": "stderr",
     "output_type": "stream",
     "text": [
      "Epoch 14/20: 100%|██████████| 794/794 [15:40<00:00,  1.18s/it]\n"
     ]
    },
    {
     "name": "stdout",
     "output_type": "stream",
     "text": [
      "\n",
      "Epoch 14/20\n",
      "Train Loss: 0.3287 | Val Loss: 0.3310 | Train Acc: 89.83% | Val Acc: 89.74%\n"
     ]
    },
    {
     "name": "stderr",
     "output_type": "stream",
     "text": [
      "Epoch 15/20: 100%|██████████| 794/794 [15:34<00:00,  1.18s/it]\n"
     ]
    },
    {
     "name": "stdout",
     "output_type": "stream",
     "text": [
      "\n",
      "Epoch 15/20\n",
      "Train Loss: 0.3289 | Val Loss: 0.3306 | Train Acc: 89.83% | Val Acc: 89.74%\n"
     ]
    },
    {
     "name": "stderr",
     "output_type": "stream",
     "text": [
      "Epoch 16/20: 100%|██████████| 794/794 [15:40<00:00,  1.18s/it]\n"
     ]
    },
    {
     "name": "stdout",
     "output_type": "stream",
     "text": [
      "\n",
      "Epoch 16/20\n",
      "Train Loss: 0.3289 | Val Loss: 0.3311 | Train Acc: 89.83% | Val Acc: 89.74%\n"
     ]
    },
    {
     "name": "stderr",
     "output_type": "stream",
     "text": [
      "Epoch 17/20: 100%|██████████| 794/794 [15:40<00:00,  1.18s/it]\n"
     ]
    },
    {
     "name": "stdout",
     "output_type": "stream",
     "text": [
      "\n",
      "Epoch 17/20\n",
      "Train Loss: 0.3292 | Val Loss: 0.3317 | Train Acc: 89.83% | Val Acc: 89.74%\n"
     ]
    },
    {
     "name": "stderr",
     "output_type": "stream",
     "text": [
      "Epoch 18/20: 100%|██████████| 794/794 [15:36<00:00,  1.18s/it]\n"
     ]
    },
    {
     "name": "stdout",
     "output_type": "stream",
     "text": [
      "\n",
      "Epoch 18/20\n",
      "Train Loss: 0.3295 | Val Loss: 0.3319 | Train Acc: 89.83% | Val Acc: 89.74%\n"
     ]
    },
    {
     "name": "stderr",
     "output_type": "stream",
     "text": [
      "Epoch 19/20: 100%|██████████| 794/794 [15:41<00:00,  1.19s/it]\n"
     ]
    },
    {
     "name": "stdout",
     "output_type": "stream",
     "text": [
      "\n",
      "Epoch 19/20\n",
      "Train Loss: 0.3291 | Val Loss: 0.3305 | Train Acc: 89.83% | Val Acc: 89.74%\n"
     ]
    },
    {
     "name": "stderr",
     "output_type": "stream",
     "text": [
      "Epoch 20/20: 100%|██████████| 794/794 [15:33<00:00,  1.18s/it]\n"
     ]
    },
    {
     "name": "stdout",
     "output_type": "stream",
     "text": [
      "\n",
      "Epoch 20/20\n",
      "Train Loss: 0.3291 | Val Loss: 0.3305 | Train Acc: 89.83% | Val Acc: 89.74%\n"
     ]
    },
    {
     "data": {
      "image/png": "[encoded data removed]",
      "text/plain": [
       "<Figure size 1200x500 with 2 Axes>"
      ]
     },
     "metadata": {},
     "output_type": "display_data"
    }
   ],
   "source": [
    "train(\n",
    "    model,\n",
    "    train_loader,      # must return ((mfcc, mel, cqcc, cqt), label)\n",
    "    dev_loader,        # Using dev_loader for validation\n",
    "    optimizer,\n",
    "    criterion,\n",
    "    device,\n",
    "    epochs=20,\n",
    "    save_path=\"best_cnn_bilstm_model.pth\"\n",
    ")"
   ]
  },
  {
   "cell_type": "code",
   "execution_count": 13,
   "metadata": {},
   "outputs": [
    {
     "name": "stderr",
     "output_type": "stream",
     "text": [
      "Testing: 100%|██████████| 2227/2227 [25:19<00:00,  1.47it/s, accuracy=89.68%, loss=1.0877]"
     ]
    },
    {
     "name": "stdout",
     "output_type": "stream",
     "text": [
      "\n",
      "--- Testing Results on dev_dataset ---\n",
      "Test Loss: 0.3287\n",
      "Test Accuracy: 89.68%\n"
     ]
    },
    {
     "name": "stderr",
     "output_type": "stream",
     "text": [
      "\n"
     ]
    }
   ],
   "source": [
    "\n",
    "test_model = MultiFeatureCNN_BiLSTM().to(device)\n",
    "\n",
    "test(test_model, eval_loader, criterion, device, \"best_cnn_bilstm_model.pth\")"
   ]
  },
  {
   "cell_type": "code",
   "execution_count": null,
   "metadata": {},
   "outputs": [],
   "source": [
    "device = torch.device(\"cuda\" if torch.cuda.is_available() else \"cpu\")\n",
    "\n",
    "model2 = MultiFeatureCNN_BiLSTM().to(device)\n",
    "\n",
    "criterion = nn.BCEWithLogitsLoss()  # Binary Cross Entropy Loss\n",
    "optimizer2 = optim.Adam(model.parameters(), lr=0.1)\n",
    "\n",
    "train(\n",
    "    model2,\n",
    "    train_loader,      # must return ((mfcc, mel, cqcc, cqt), label)\n",
    "    dev_loader,        # Using dev_loader for validation\n",
    "    optimizer2,\n",
    "    criterion,\n",
    "    device,\n",
    "    epochs=20,\n",
    "    save_path=\"best_cnn_bilstm_model2.pth\"\n",
    ")"
   ]
  },
  {
   "cell_type": "code",
   "execution_count": 14,
   "metadata": {},
   "outputs": [],
   "source": [
    "##test_model = MultiFeatureCNN_BiLSTM().to(device)\n",
    "#test_model.load_state_dict(torch.load(\"best_model.pth\", map_location=device))\n",
    "#test_model.eval()  # Set to evaluation mode\n",
    "#test(test_model, eval_loader, criterion, device, \"best_model.pth\")"
   ]
  }
 ],
 "metadata": {
  "kernelspec": {
   "display_name": "base",
   "language": "python",
   "name": "python3"
  },
  "language_info": {
   "codemirror_mode": {
    "name": "ipython",
    "version": 3
   },
   "file_extension": ".py",
   "mimetype": "text/x-python",
   "name": "python",
   "nbconvert_exporter": "python",
   "pygments_lexer": "ipython3",
   "version": "3.12.7"
  }
 },
 "nbformat": 4,
 "nbformat_minor": 2
}
